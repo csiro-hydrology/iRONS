{
 "cells": [
  {
   "cell_type": "markdown",
   "metadata": {
    "slideshow": {
     "slide_type": "-"
    }
   },
   "source": [
    "# Recursive decisions and multi-objective optimisation: optimising reservoir release scheduling under conflicting objectives\n",
    "In this Notebook we will see how simulation models and optimisation algorithms can be used to assist the operation of a water reservoir system.\n",
    "\n",
    "<left><img src=\"../../util/images/Dam1.gif\" width = \"800px\"><left>\n",
    "    \n",
    "We consider a simple illustrative system where a reservoir is operated to supply water to a domestic consumption node, while ensuring a minimum environmental flow in the downstream river (also called “environmental compensation flow”) and maintaining the water level in the reservoir within prescribed limits. We use a mathematical model to link all the key variables that represent the reservoir dynamics (inflow, storage and outflows) and use model simulation/optimisation to determine the reservoir release scheduling that will best meet the water demand over a coming period of time, given the predicted (or assumed) scenario of future inflows.\n",
    "<left> <img src=\"../../util/images/system_representation_IO0.png\" width = \"600px\"><left>"
   ]
  },
  {
   "cell_type": "markdown",
   "metadata": {},
   "source": [
    "## Import libraries\n",
    "Before getting started, let's import some libraries that will be used throughout the Notebook: (🚨 in order to run the code like in the box below, place the mouse pointer in the cell, then click on “run cell” button above or press shift + enter)"
   ]
  },
  {
   "cell_type": "code",
   "execution_count": 1,
   "metadata": {},
   "outputs": [],
   "source": [
    "from bqplot import pyplot as plt\n",
    "from bqplot import *\n",
    "from bqplot.traits import *\n",
    "import numpy as np\n",
    "import ipywidgets as widgets\n",
    "from IPython.display import display\n",
    "from Modules.Interactive_release_schedule import Interactive_release_single,Interactive_release_double, Interactive_Pareto_front\n",
    "warnings.filterwarnings('ignore') # to ignore warning messages"
   ]
  },
  {
   "cell_type": "markdown",
   "metadata": {},
   "source": [
    "## The reservoir model\n",
    "\n",
    "The mathematical model of the reservoir essentially consists of a water balance equation, where the storage (***s***) at a future time step (for example, at the beginning of the next week) is predicted from the storage at the current time (the beginning of the this week) by adding and subtracting the inflows and outflows that will occur during the temporal interval ahead:\n",
    "\n",
    "$s(t+1) = s(t) + I(t) – E(t) – env(t) - spill(t) – Qreg(t)$   \n",
    "\n",
    "Where\n",
    "\n",
    "***s(t)*** = reservoir storage at time-step t, in Vol (for example: ML)\n",
    "\n",
    "***I(t)*** = reservoir inflows in the interval [t,t+1], in Vol/time (for example: ML/week). This is usually provided by a flow forecasting system or assumed by looking, for example, at historical inflow records for the relevant time of year\n",
    "\n",
    "***E(t)*** = evaporation from the reservoir surface area in the interval [t,t+1], in Vol/time (for example: ML/week). This is calculated internally to the model, by multipling the evaporation rate for unit surface area (which depends on air temperature) by the reservoir surface area (which is derived from the storage S given that the reservoir geometry is known)\n",
    "\n",
    "***env(t)*** = environmental compensation flow in the interval [t,t+1], in Vol/time (for example: ML/week). This is usually set to the value that was agreed upon with the environemtal regulator ([Learn more about the rational behind environmental flows](https://www.youtube.com/watch?v=cbUrrYq9BmU))\n",
    "\n",
    "***spill(t)*** = outflow through spillways (if any) in the interval [t,t+1], in Vol/time (for example: ML/week). This is calculated internally to the model, and is equal to the excess volume with respect to the maximum reservoir capacity (so most of the time ***spill(t)*** is equal to 0 as the maximum capacity is not reached, but it occasionally is >0 so that the capacity is never exceeded)\n",
    "\n",
    "***Qreg(t)*** = regulated reservoir release for water supply in the interval [t,t+1], in Vol/time (for example: ML/week). This is a completely free variable that the reservoir operator will need to specify\n",
    "<left> <img src=\"../../util/images/system_representation_IO1.png\" width = \"600px\"><left>"
   ]
  },
  {
   "cell_type": "markdown",
   "metadata": {},
   "source": [
    "#### Implementation of the reservoir simulation function\n",
    "Here we define a function that implements the reservoir simulation, that is, iteratively apply the mass balance equation and reconstruct the temporal evolution of the reservoir variables over the simulation period"
   ]
  },
  {
   "cell_type": "code",
   "execution_count": 2,
   "metadata": {
    "code_folding": []
   },
   "outputs": [],
   "source": [
    "def syst_sim(N,I,e,d,S0,Smax,env_min,Qreg):\n",
    "\n",
    "    # Declare output variables\n",
    "\n",
    "    S = [0]*(N+1) # reservoir storage in ML\n",
    "\n",
    "    spill = [0]*N # spillage in ML\n",
    "\n",
    "    env = [env_min]*N # environmental compensation flow\n",
    "    \n",
    "    S[0] = S0 # initial storage\n",
    "\n",
    "    for t in range(N): # Loop for each time-step (week)\n",
    "\n",
    "        # If at week t the inflow (I) is lower than the minimum environmental compensation (env_min), \n",
    "        # then the environmental compensation (env) = inflow (I)  \n",
    "        if env_min >= I[t] :\n",
    "            env[t] = I[t]\n",
    "        # If the minimum environmental compensation is higher than the water resource available (S + I - E)\n",
    "        # then the environmental compensation is equal to the higher value between 0 and the resource available\n",
    "        if env_min >= S[t] + I[t] - e[t]:\n",
    "            env[t] = max(0,S[t] + I[t] - e[t]) \n",
    "        # If the demand is higher than the water resource available (S + I - E - env)\n",
    "        # then the release for water supply is equal to the higher value between 0 and the resource available            \n",
    "        if d[t] >= S[t] + I[t] - e[t] - env[t]:\n",
    "            Qreg[t] = min(Qreg[t],max(0,S[t] + I[t] - e[t] - env[t]))\n",
    "        # The spillage is equal to the higher value between 0 and the resource available exceeding the reservoir capacity\n",
    "        spill[t] = max(0,S[t] + I[t] - Qreg[t] - env[t] - e[t] - Smax)\n",
    "        # The final storage (initial storage in the next step) is equal to the storage + inflow - outflows\n",
    "        S[t+1] = S[t] + I[t] - Qreg[t] - env[t]- e[t] - spill[t]\n",
    "        \n",
    "    return S,env,spill,Qreg"
   ]
  },
  {
   "cell_type": "markdown",
   "metadata": {},
   "source": [
    "## Determining the release scheduling by trial and error (manual optimisation)\n",
    "Here we want to use the reservoir model to assist the reservoir operator in determining the best scheduling of regulated reservoir releases (Qreg) in response to a certain scenario of inflows. The goal is to minimise the deficit with respect to a prescribed water demand, that is, to minimise the objective function:\n",
    "\n",
    "$$TSD = \\sum_{t=1}^{N} [ \\ max( \\ 0, \\ d(t)-Qreg(t) \\ ) \\ ]^2 $$\n",
    "\n",
    "where N is the length of the simulation period that we are considering, and d(t) is the water demand for each time-interval in that period, and TSD stands for Total Squared Deficit. Notice that the function $max(0,...)$ enables us to only count the difference between demand d and release u when this is positive, that is, when the release u is smaller than the demand d, and a water shortage is indeed produced. Also, the squaring is a 'mathematical trick' to make sure that larger deficit amounts are given more weight than smaller ones. This translates the fact that small deficit amounts are easier to mitigate and hence more acceptable, while larger ones can cause disproportionately severe impacts and should be avoided as much as possible."
   ]
  },
  {
   "cell_type": "markdown",
   "metadata": {},
   "source": [
    "#### Definition of inflow and demand scenarios\n",
    "Let's assume we want to look at the next 8 weeks the number of weeks (so ***N=8***), and assume we have forecasts of inflows and demand for this period."
   ]
  },
  {
   "cell_type": "code",
   "execution_count": 3,
   "metadata": {},
   "outputs": [],
   "source": [
    "N = 8 # (weeks) length of the simulation period\n",
    "\n",
    "I_fore = np.array([15,17,19,11,9,4,3,8]) # (ML/week) time series of inflow forecasts\n",
    "T_fore = np.array([13,13,17,18,20,22,25,26]) # (degC) time series of temperature forecasts\n",
    "d_fore = np.array([15]*N)*T_fore/15 # (ML/week) time series of demand forecasts, estimated as a function of temperature\n",
    "# (this is onviously a very simplified approach, and one could use a much more sophisticated demand model)"
   ]
  },
  {
   "cell_type": "markdown",
   "metadata": {},
   "source": [
    "Plot the inflow and demand forecasts:"
   ]
  },
  {
   "cell_type": "code",
   "execution_count": 4,
   "metadata": {},
   "outputs": [
    {
     "data": {
      "application/vnd.jupyter.widget-view+json": {
       "model_id": "d4c79033cda143c9bcc3f2135067dbea",
       "version_major": 2,
       "version_minor": 0
      },
      "text/plain": [
       "VBox(children=(Figure(axes=[Axis(label='week', scale=LinearScale()), Axis(label='ML/week', orientation='vertic…"
      ]
     },
     "metadata": {},
     "output_type": "display_data"
    }
   ],
   "source": [
    "# Axis characterisitcs\n",
    "x_sc_1 = LinearScale();y_sc_1 = LinearScale(min=0,max=35)\n",
    "x_ax_1 = Axis(label='week', scale=x_sc_1);y_ax_1 = Axis(label='ML/week', scale=y_sc_1, orientation='vertical')\n",
    "# Bar plot\n",
    "inflow_plot = plt.bar(np.arange(1,N+1),I_fore,colors=['blue'],stroke = 'lightgray',scales={'x': x_sc_1, 'y': y_sc_1},\n",
    "                      labels = ['inflow'], display_legend = True)\n",
    "#Figure characteristics\n",
    "fig_1a = plt.Figure(marks = [inflow_plot],title = 'Inflow forecast for the next 8 weeks', axes=[x_ax_1, y_ax_1],\n",
    "                    layout={'min_width': '1000px', 'max_height': '250px'}, legend_style = {'fill': 'white', 'opacity': 0.5})\n",
    "widgets.VBox([fig_1a])"
   ]
  },
  {
   "cell_type": "code",
   "execution_count": 5,
   "metadata": {},
   "outputs": [
    {
     "data": {
      "application/vnd.jupyter.widget-view+json": {
       "model_id": "b9f25a7b186a4f0c9a89b625d7d51c7d",
       "version_major": 2,
       "version_minor": 0
      },
      "text/plain": [
       "VBox(children=(Figure(axes=[Axis(label='week', scale=LinearScale(), side='bottom'), Axis(label='ML/week', orie…"
      ]
     },
     "metadata": {},
     "output_type": "display_data"
    }
   ],
   "source": [
    "# Bar plot (we use the same axis as the weekly inflows figure)\n",
    "demand_plot   = plt.bar(np.arange(1,N+1),d_fore,colors=['gray'],stroke = 'lightgray',opacities = [1]*N, \n",
    "                        labels = ['demand'], display_legend = True, \n",
    "                    stroke_width = 1,scales={'x': x_sc_1, 'y': y_sc_1})\n",
    "#Figure characteristics\n",
    "fig_1b = plt.Figure(marks = [demand_plot],title = 'Demand forecast for the next 8 weeks', axes=[x_ax_1, y_ax_1],\n",
    "                    layout={'min_width': '1000px', 'max_height': '250px'}, legend_style = {'fill': 'white', 'opacity': 1})\n",
    "widgets.VBox([fig_1b])"
   ]
  },
  {
   "cell_type": "markdown",
   "metadata": {},
   "source": [
    "#### Definition of other input parameters\n",
    "Let's define other variables that are needed for the reservoir system simulation, such as the reservoir storage capacity, the environmental compensation flow, etc."
   ]
  },
  {
   "cell_type": "code",
   "execution_count": 6,
   "metadata": {},
   "outputs": [],
   "source": [
    "### Constraints ###\n",
    "s_max = 150 #  (ML) Maximum storage (=reservoir capacity)\n",
    "s_min = 0 # (ML) Minimum storage (set to zero for now)\n",
    "env_min = 2 # (ML/week)   # Environmental compensation flow\n",
    "\n",
    "### Initial conditions ###\n",
    "s_0 = 80 # (ML) # Storage volume at the beginning of the simulation period\n",
    "e_fore = T_fore*0.1 # (ML/week) Time series of evaporation from the reservoir (this is a very simplified \n",
    "# approach and could be replaced by a more realistic estimation approach)"
   ]
  },
  {
   "cell_type": "markdown",
   "metadata": {},
   "source": [
    "#### Determining the optimal release scheduling via interactive visualisation\n",
    "\n",
    "Use the slider to set the release amount for each week in the simulation period, and in doing so try to minimise the Total Squared Deficit. "
   ]
  },
  {
   "cell_type": "code",
   "execution_count": 7,
   "metadata": {},
   "outputs": [
    {
     "data": {
      "application/vnd.jupyter.widget-view+json": {
       "model_id": "9d62cb6eb0024098a291f34c8c5e9895",
       "version_major": 2,
       "version_minor": 0
      },
      "text/plain": [
       "VBox(children=(HBox(children=(FloatSlider(value=0.0, description='Week 1', layout=Layout(width='100px'), max=4…"
      ]
     },
     "metadata": {},
     "output_type": "display_data"
    }
   ],
   "source": [
    "# Interactive release scheduling\n",
    "fig_2a,fig_2b,release1,release2,release3,release4,release5,release6,release7,release8 = Interactive_release_single(\n",
    "    N,I_fore,e_fore,d_fore,s_0,s_max,env_min, demand_plot)\n",
    "HBox_layout = widgets.Layout(justify_content='center')\n",
    "widgets.VBox([widgets.HBox(\n",
    "    [release1,release2,release3,release4,release5,release6,release7,release8],layout=HBox_layout),fig_2b,fig_2a])"
   ]
  },
  {
   "cell_type": "markdown",
   "metadata": {},
   "source": [
    "**Comment**: clearly it is not possible to fully meet the demand at all times in the simulation period. For example if we fully cover the demand for the first 7 weeks, we drawdown the reservoir to a point that we are forced to dramatically reduce the release in the last week, causing a very severe deficit. A more effective approach is to cause smaller deficits across all time steps, that is, tolerate some small deficits even when in principle we may fully cover the demand, in order to prevent more severe deficits in the later period. This type of approach is called ***hedging*** (see for example [You and Cai 2008](https://agupubs.onlinelibrary.wiley.com/doi/10.1029/2006WR005481)).\n",
    "\n",
    "Btw, the minimum TSD value that can be achieved is **49, try to beat it!**"
   ]
  },
  {
   "cell_type": "markdown",
   "metadata": {},
   "source": [
    "## From single to multi-objective optimization\n",
    "Now let's assume that, besides minimising supply deficits, we are also interested in minimising the chances that the reservoir level go below a minimum threshold. This could be, for example, because the quality of the water deteriorates when levels are low, requiring more costly treatment. We measure how well this criterion is satisfied by the following objective function:\n",
    "\n",
    "$$MSV = \\sum_{t=1}^{N} max ( \\ rc - S(t) , \\ 0)$$\n",
    "\n",
    "where, again, N is the length of the simulation period, S is the reservoir storage, and rc is the minimum reservoir storage threshold that should preferably not be transpassed (MSV stands for Minimum Storage Violation). \n",
    "\n",
    "For our case, let's set this threshold to 30 ML:"
   ]
  },
  {
   "cell_type": "code",
   "execution_count": 8,
   "metadata": {},
   "outputs": [],
   "source": [
    "# Minimum storage threshold\n",
    "ms = np.array([30]*(N+1)) # in ML"
   ]
  },
  {
   "cell_type": "markdown",
   "metadata": {},
   "source": [
    "Now use the slider to set the release amount for each week in the simulation period, in a way that jointly minimise the Total Squared Deficit and the Minimum Storage Violation. "
   ]
  },
  {
   "cell_type": "code",
   "execution_count": 9,
   "metadata": {},
   "outputs": [
    {
     "data": {
      "application/vnd.jupyter.widget-view+json": {
       "model_id": "bd8db7d89dee430ea141081873dcfdf3",
       "version_major": 2,
       "version_minor": 0
      },
      "text/plain": [
       "VBox(children=(HBox(children=(FloatSlider(value=0.0, description='Week 1', layout=Layout(width='100px'), max=4…"
      ]
     },
     "metadata": {},
     "output_type": "display_data"
    }
   ],
   "source": [
    "fig_3a,fig_3b,release1,release2,release3,release4,release5,release6,release7,release8 = Interactive_release_double(\n",
    "    N,I_fore,e_fore,d_fore,s_0,s_max,ms,env_min, demand_plot)\n",
    "HBox_layout = widgets.Layout(justify_content='center')\n",
    "widgets.VBox([widgets.HBox(\n",
    "    [release1,release2,release3,release4,release5,release6,release7,release8],layout=HBox_layout),fig_3b,fig_3a])"
   ]
  },
  {
   "cell_type": "markdown",
   "metadata": {},
   "source": [
    "***Comment*** It is possible to find a release scheduling that produce no violation of the minimum storage threshold, although it will produce some supply deficit - the record is **305, can you beat it?**. However, one could also allow some violation of the storage threshold in order to reduce the deficits. The two objectives are conflicting: improving on one of them implies doing worse on the other."
   ]
  },
  {
   "cell_type": "markdown",
   "metadata": {},
   "source": [
    "## From manual to automatic optimization approach\n",
    "As we have seen, when we deal with two conflicting objective, we cannot find a solution that optimise both simoultaneously. If we prioritize one objective, the other one is deteriorated: there is a trade-off between the two. It would then be interesting to explore this tradeoff, and find all the release schedules that produce a different optimal combination of the two objectives. However, this is too cumbersome to do manually. Here we then use a multi-objective optimisation algorithm to do that for us. \n",
    "\n",
    "To this end, we use the Python Platypus package, and the NSGAII algorithm implemented in it. For more information about these methods and tools, see [Deb et al, 2002](https://ieeexplore.ieee.org/document/996017) and the [Platypus webpage](https://platypus.readthedocs.io). The code to run the optimisation is the following:"
   ]
  },
  {
   "cell_type": "code",
   "execution_count": 10,
   "metadata": {
    "code_folding": []
   },
   "outputs": [],
   "source": [
    "# Optimizer\n",
    "from platypus import NSGAII, Problem, Real, Integer\n",
    "\n",
    "def auto_optim(vars):\n",
    "    release1 = vars[0]\n",
    "    release2 = vars[1]\n",
    "    release3 = vars[2]\n",
    "    release4 = vars[3]\n",
    "    release5 = vars[4]\n",
    "    release6 = vars[5]\n",
    "    release7 = vars[6]\n",
    "    release8 = vars[7]\n",
    "\n",
    "    Qreg = [release1,release2,release3,release4,release5,release6,release7,release8]\n",
    "    s,env,spill,Qreg = syst_sim(N,I_fore,e_fore,d_fore,s_0,s_max,env_min,Qreg)\n",
    "    \n",
    "    sdpen = (np.sum((np.maximum(d_fore-Qreg,[0]*N))**2)).astype('int')\n",
    "    lspen = (np.sum((np.maximum(ms-s,[0]*(N+1))))).astype('int')\n",
    "    \n",
    "    return [sdpen,lspen]\n",
    "\n",
    "problem = Problem(N,2)\n",
    "Real0 = Real(0, 40);Real1 = Real(0, 40);Real2 = Real(0, 40);Real3 = Real(0, 40);\n",
    "Real4 = Real(0, 40);Real5 = Real(0, 40);Real6 = Real(0, 40);Real7 = Real(0, 40)\n",
    "\n",
    "problem.types[:] = [Real0] + [Real1] + [Real2] + [Real3] + [Real4] + [Real5] + [Real6] + [Real7] \n",
    "problem.function = auto_optim\n",
    "\n",
    "population_size = 20\n",
    "algorithm = NSGAII(problem,population_size)\n",
    "algorithm.run(10000) # Number of iterations\n",
    "\n",
    "results1_optim_relea = np.array([algorithm.result[i].objectives[0] for i in range(population_size)])\n",
    "results2_optim_relea = np.array([algorithm.result[i].objectives[1] for i in range(population_size)])\n",
    "\n",
    "solutions_optim_relea = [algorithm.result[i].variables[0:N] for i in range(population_size)]"
   ]
  },
  {
   "cell_type": "markdown",
   "metadata": {},
   "source": [
    "#### Plot the optimisation results\n",
    "We can visualise the tradeoffs between the two objectives in one plot, called Pareto front, which displays the combination of the two objective values in correspondence to a set of optimised solutions. Click on one point in the Pareto front to visualise the release scheduling that generates that performance, and associated storage time series.  What do you think would be a balanced solution?"
   ]
  },
  {
   "cell_type": "code",
   "execution_count": 12,
   "metadata": {},
   "outputs": [
    {
     "data": {
      "text/plain": [
       "(8,\n",
       " array([15, 17, 19, 11,  9,  4,  3,  8]),\n",
       " array([1.3, 1.3, 1.7, 1.8, 2. , 2.2, 2.5, 2.6]),\n",
       " array([13., 13., 17., 18., 20., 22., 25., 26.]),\n",
       " 80,\n",
       " 150,\n",
       " array([30, 30, 30, 30, 30, 30, 30, 30, 30]),\n",
       " 2,\n",
       " Bars(colors=['gray'], display_legend=True, interactions={'hover': 'tooltip'}, labels=['demand'], opacities=[1.0, 1.0, 1.0, 1.0, 1.0, 1.0, 1.0, 1.0], scales={'x': LinearScale(), 'y': LinearScale(max=35.0, min=0.0)}, scales_metadata={'x': {'orientation': 'horizontal', 'dimension': 'x'}, 'y': {'orientation': 'vertical', 'dimension': 'y'}, 'color': {'dimension': 'color'}}, stroke='lightgray', tooltip_style={'opacity': 0.9}, x=array([1, 2, 3, 4, 5, 6, 7, 8]), y=array([13., 13., 17., 18., 20., 22., 25., 26.])),\n",
       " [[6.89937444961375,\n",
       "   7.389700424885284,\n",
       "   10.268466109214739,\n",
       "   11.55867370893185,\n",
       "   14.489578329209511,\n",
       "   16.686578656363903,\n",
       "   18.394605834887432,\n",
       "   19.81904008687295],\n",
       "  [10.812409967652883,\n",
       "   10.932284253626095,\n",
       "   14.155625861930233,\n",
       "   15.852682537969944,\n",
       "   17.790941410081988,\n",
       "   19.417426495497033,\n",
       "   22.13701286574986,\n",
       "   31.56755645515058],\n",
       "  [8.820323220690096,\n",
       "   9.790464064608031,\n",
       "   13.420496820849738,\n",
       "   15.280569919400628,\n",
       "   16.83889015946991,\n",
       "   18.559023591697866,\n",
       "   21.359232680436506,\n",
       "   25.319832819595735],\n",
       "  [8.53797995919976,\n",
       "   9.021920610321036,\n",
       "   13.383761377120527,\n",
       "   13.876873897920628,\n",
       "   16.82561772480287,\n",
       "   18.071360438969343,\n",
       "   22.21907363955853,\n",
       "   25.242326342934945],\n",
       "  [7.406799402722275,\n",
       "   6.996444059486818,\n",
       "   10.785424895214419,\n",
       "   11.466746658808841,\n",
       "   14.949782272693751,\n",
       "   15.39350639062599,\n",
       "   20.36163796132975,\n",
       "   20.202919725053317],\n",
       "  [10.286912613046223,\n",
       "   9.801310442640235,\n",
       "   13.420496820849738,\n",
       "   15.280569919400628,\n",
       "   16.94849095400363,\n",
       "   18.559023591697866,\n",
       "   21.359232680436506,\n",
       "   25.319832819595735],\n",
       "  [10.168421632101353,\n",
       "   9.80123889445972,\n",
       "   14.195483996405253,\n",
       "   15.277781544564112,\n",
       "   16.898274301060273,\n",
       "   18.575908172044848,\n",
       "   22.134125450620786,\n",
       "   25.320434274192696],\n",
       "  [10.286309835886978,\n",
       "   9.800346996316003,\n",
       "   14.883274847846096,\n",
       "   15.280582320300143,\n",
       "   16.94849095400363,\n",
       "   18.559023591697866,\n",
       "   22.99771191771842,\n",
       "   25.263750972085322],\n",
       "  [8.653420592218438,\n",
       "   7.623890680974332,\n",
       "   12.892973857256212,\n",
       "   13.517162726783559,\n",
       "   16.83889015946991,\n",
       "   18.559023591697866,\n",
       "   20.31247391007055,\n",
       "   22.39606101671858],\n",
       "  [8.662643478010065,\n",
       "   9.048208339830444,\n",
       "   13.402416609213525,\n",
       "   13.544397456087866,\n",
       "   17.091603592438794,\n",
       "   18.564410232614286,\n",
       "   20.361568324549427,\n",
       "   22.302269400221384],\n",
       "  [6.885350364972766,\n",
       "   7.546351630226616,\n",
       "   12.40351353421487,\n",
       "   12.4320802178476,\n",
       "   16.099605472665104,\n",
       "   16.48766022839477,\n",
       "   19.252749373000015,\n",
       "   21.713400791250216],\n",
       "  [7.505588726402057,\n",
       "   6.992272917008988,\n",
       "   10.785424895214419,\n",
       "   11.412432410348377,\n",
       "   14.949782272693751,\n",
       "   15.377640287019345,\n",
       "   21.77185949441632,\n",
       "   20.202919725053317],\n",
       "  [6.900751328599558,\n",
       "   7.546351630226616,\n",
       "   11.066791077603817,\n",
       "   12.288020911355606,\n",
       "   16.099605472665104,\n",
       "   16.31489130825617,\n",
       "   19.252749373000015,\n",
       "   21.713400791250216],\n",
       "  [7.406799402722275,\n",
       "   7.544859574356704,\n",
       "   9.578651480260298,\n",
       "   14.361988779785111,\n",
       "   14.949782272693751,\n",
       "   16.12787539099061,\n",
       "   20.360542291643473,\n",
       "   20.202919725053317],\n",
       "  [8.839583142933412,\n",
       "   7.572541398707982,\n",
       "   13.420496820849738,\n",
       "   13.91258811600168,\n",
       "   16.840148410627943,\n",
       "   18.559023591697866,\n",
       "   21.359232680436506,\n",
       "   25.319832819595735],\n",
       "  [6.846486148956099,\n",
       "   7.5449211491212305,\n",
       "   12.903882409131338,\n",
       "   14.054822296070672,\n",
       "   14.90263258802017,\n",
       "   16.321099584236148,\n",
       "   20.3840873315442,\n",
       "   22.42697439642679],\n",
       "  [6.846486148956099,\n",
       "   7.5449211491212305,\n",
       "   12.986317687379673,\n",
       "   13.995116825645873,\n",
       "   14.933437351598176,\n",
       "   16.32172607609507,\n",
       "   19.30072419209299,\n",
       "   22.274973024279046],\n",
       "  [7.68037056512724,\n",
       "   7.541029430560786,\n",
       "   13.402416609213525,\n",
       "   13.544397456087866,\n",
       "   17.091603592438794,\n",
       "   16.327152043853197,\n",
       "   20.361568324549427,\n",
       "   22.302269400221384],\n",
       "  [8.551489946433895,\n",
       "   9.021920610321036,\n",
       "   13.29199499246442,\n",
       "   14.041656088848928,\n",
       "   14.852861076501894,\n",
       "   18.071360438969343,\n",
       "   21.76975001448341,\n",
       "   25.823897420349457],\n",
       "  [6.975340727497773,\n",
       "   7.623890680974332,\n",
       "   12.88525998249984,\n",
       "   13.517162726783559,\n",
       "   16.83889015946991,\n",
       "   16.38773528127477,\n",
       "   20.31247391007055,\n",
       "   22.39606101671858]],\n",
       " array([295,  47,  83,  99, 272,  72,  63,  55, 141, 122, 216, 261, 233,\n",
       "        244, 111, 192, 204, 166, 117, 178]),\n",
       " array([ 0, 39, 27, 23,  2, 30, 33, 36, 16, 18,  8,  4,  6,  5, 21, 10,  9,\n",
       "        13, 20, 12]))"
      ]
     },
     "execution_count": 12,
     "metadata": {},
     "output_type": "execute_result"
    }
   ],
   "source": [
    "N,I_fore,e_fore,d_fore,s_0,s_max,ms,env_min, demand_plot,solutions_optim_relea,results1_optim_relea,results2_optim_relea"
   ]
  },
  {
   "cell_type": "code",
   "execution_count": 15,
   "metadata": {},
   "outputs": [],
   "source": [
    "# Interactive Pareto front\n",
    "fig_4a,fig_4b,fig_pf = Interactive_Pareto_front(\n",
    "    N,I_fore,e_fore,d_fore,s_0,s_max,ms,env_min, demand_plot,solutions_optim_relea,results1_optim_relea,results2_optim_relea)"
   ]
  },
  {
   "cell_type": "code",
   "execution_count": 16,
   "metadata": {},
   "outputs": [
    {
     "data": {
      "application/vnd.jupyter.widget-view+json": {
       "model_id": "50b0eb50ce594c5d9584602e0bce6b49",
       "version_major": 2,
       "version_minor": 0
      },
      "text/plain": [
       "VBox(children=(HBox(children=(VBox(children=(Figure(animation_duration=1000, axes=[Axis(label='week', scale=Li…"
      ]
     },
     "metadata": {},
     "output_type": "display_data"
    }
   ],
   "source": [
    "widgets.VBox([widgets.HBox([widgets.VBox([fig_4b,fig_4a]),fig_pf])])"
   ]
  },
  {
   "cell_type": "markdown",
   "metadata": {},
   "source": [
    "### References \n",
    "\n",
    "Deb K. et al (2002) A fast and elitist multiobjective genetic algorithm: NSGA-II, IEEE Transactions on Evolutionary Computation, 6(2), 182-197, doi:10.1109/4235.996017.\n",
    "\n",
    "You J.Y. and Cai X. (2008) Hedging rule for reservoir operations: 1. A theoretical analysis, Water Resour. Res., 44, W01415, doi:10.1029/2006WR005481."
   ]
  },
  {
   "cell_type": "markdown",
   "metadata": {},
   "source": [
    "#### Let's go to the next section!: [3.b.\tDecision making under uncertainty: optimising reservoir pumped inflow scheduling under uncertain hydrological forecasts](3.b.%20Decision%20making%20under%20uncertainty.ipynb)"
   ]
  },
  {
   "cell_type": "code",
   "execution_count": null,
   "metadata": {},
   "outputs": [],
   "source": []
  }
 ],
 "metadata": {
  "kernelspec": {
   "display_name": "Python 3",
   "language": "python",
   "name": "python3"
  },
  "language_info": {
   "codemirror_mode": {
    "name": "ipython",
    "version": 3
   },
   "file_extension": ".py",
   "mimetype": "text/x-python",
   "name": "python",
   "nbconvert_exporter": "python",
   "pygments_lexer": "ipython3",
   "version": "3.8.5"
  },
  "varInspector": {
   "cols": {
    "lenName": 16,
    "lenType": 16,
    "lenVar": 40
   },
   "kernels_config": {
    "python": {
     "delete_cmd_postfix": "",
     "delete_cmd_prefix": "del ",
     "library": "var_list.py",
     "varRefreshCmd": "print(var_dic_list())"
    },
    "r": {
     "delete_cmd_postfix": ") ",
     "delete_cmd_prefix": "rm(",
     "library": "var_list.r",
     "varRefreshCmd": "cat(var_dic_list()) "
    }
   },
   "types_to_exclude": [
    "module",
    "function",
    "builtin_function_or_method",
    "instance",
    "_Feature"
   ],
   "window_display": false
  }
 },
 "nbformat": 4,
 "nbformat_minor": 4
}
